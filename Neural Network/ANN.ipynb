{
 "cells": [
  {
   "cell_type": "code",
   "execution_count": 18,
   "id": "12b53e04",
   "metadata": {},
   "outputs": [],
   "source": [
    "import numpy as np\n",
    "import matplotlib.pyplot as plt\n",
    "import tensorflow as tf"
   ]
  },
  {
   "cell_type": "code",
   "execution_count": 19,
   "id": "32b975ba",
   "metadata": {},
   "outputs": [],
   "source": [
    "(x_train, y_train), (x_test, y_test) = tf.keras.datasets.mnist.load_data()\n",
    "assert x_train.shape == (60000, 28, 28)\n",
    "assert x_test.shape == (10000, 28, 28)\n",
    "assert y_train.shape == (60000,)\n",
    "assert y_test.shape == (10000,)\n"
   ]
  },
  {
   "cell_type": "code",
   "execution_count": 20,
   "id": "c9ea3fe4",
   "metadata": {},
   "outputs": [
    {
     "data": {
      "image/png": "[encoded data removed]",
      "text/plain": [
       "<Figure size 576x576 with 9 Axes>"
      ]
     },
     "metadata": {
      "needs_background": "light"
     },
     "output_type": "display_data"
    }
   ],
   "source": [
    "plt.figure(figsize = (8, 8))\n",
    "for i in range(9):\n",
    "    img_index = np.random.randint(low = 0, high = len(x_train))\n",
    "    plt.subplot(3, 3, i + 1)\n",
    "    plt.imshow(x_train[img_index])\n",
    "    plt.title(f\"Class = {y_train[img_index]}\")\n",
    "plt.tight_layout()"
   ]
  },
  {
   "cell_type": "code",
   "execution_count": 21,
   "id": "aa6e6643",
   "metadata": {},
   "outputs": [
    {
     "name": "stdout",
     "output_type": "stream",
     "text": [
      "Epoch 1/20\n",
      "1875/1875 [==============================] - 10s 5ms/step - loss: 0.1871 - accuracy: 0.9420 - val_loss: 0.0902 - val_accuracy: 0.9716\n",
      "Epoch 2/20\n",
      "1875/1875 [==============================] - 10s 5ms/step - loss: 0.0798 - accuracy: 0.9755 - val_loss: 0.0763 - val_accuracy: 0.9759\n",
      "Epoch 3/20\n",
      "1875/1875 [==============================] - 10s 5ms/step - loss: 0.0512 - accuracy: 0.9834 - val_loss: 0.0704 - val_accuracy: 0.9784\n",
      "Epoch 4/20\n",
      "1875/1875 [==============================] - 10s 5ms/step - loss: 0.0396 - accuracy: 0.9867 - val_loss: 0.0699 - val_accuracy: 0.9802\n",
      "Epoch 5/20\n",
      "1875/1875 [==============================] - 10s 5ms/step - loss: 0.0297 - accuracy: 0.9901 - val_loss: 0.0842 - val_accuracy: 0.9781\n",
      "Epoch 6/20\n",
      "1875/1875 [==============================] - 10s 5ms/step - loss: 0.0268 - accuracy: 0.9917 - val_loss: 0.0813 - val_accuracy: 0.9771\n",
      "Epoch 7/20\n",
      "1875/1875 [==============================] - 10s 5ms/step - loss: 0.0240 - accuracy: 0.9921 - val_loss: 0.0812 - val_accuracy: 0.9806\n",
      "Epoch 8/20\n",
      "1875/1875 [==============================] - 10s 5ms/step - loss: 0.0189 - accuracy: 0.9939 - val_loss: 0.0884 - val_accuracy: 0.9806\n",
      "Epoch 9/20\n",
      "1875/1875 [==============================] - 10s 5ms/step - loss: 0.0179 - accuracy: 0.9942 - val_loss: 0.1024 - val_accuracy: 0.9786\n",
      "Epoch 10/20\n",
      "1875/1875 [==============================] - 10s 5ms/step - loss: 0.0171 - accuracy: 0.9945 - val_loss: 0.0908 - val_accuracy: 0.9808\n",
      "Epoch 11/20\n",
      "1875/1875 [==============================] - 10s 5ms/step - loss: 0.0157 - accuracy: 0.9952 - val_loss: 0.0829 - val_accuracy: 0.9839\n",
      "Epoch 12/20\n",
      "1875/1875 [==============================] - 11s 6ms/step - loss: 0.0150 - accuracy: 0.9955 - val_loss: 0.0944 - val_accuracy: 0.9813\n",
      "Epoch 13/20\n",
      "1875/1875 [==============================] - 11s 6ms/step - loss: 0.0140 - accuracy: 0.9959 - val_loss: 0.1427 - val_accuracy: 0.9769\n",
      "Epoch 14/20\n",
      "1875/1875 [==============================] - 10s 5ms/step - loss: 0.0136 - accuracy: 0.9961 - val_loss: 0.1110 - val_accuracy: 0.9793\n",
      "Epoch 15/20\n",
      "1875/1875 [==============================] - 10s 5ms/step - loss: 0.0103 - accuracy: 0.9968 - val_loss: 0.0979 - val_accuracy: 0.9839\n",
      "Epoch 16/20\n",
      "1875/1875 [==============================] - 10s 6ms/step - loss: 0.0127 - accuracy: 0.9963 - val_loss: 0.0978 - val_accuracy: 0.9823\n",
      "Epoch 17/20\n",
      "1875/1875 [==============================] - 10s 5ms/step - loss: 0.0106 - accuracy: 0.9968 - val_loss: 0.1219 - val_accuracy: 0.9812\n",
      "Epoch 18/20\n",
      "1875/1875 [==============================] - 10s 5ms/step - loss: 0.0113 - accuracy: 0.9969 - val_loss: 0.0949 - val_accuracy: 0.9843\n",
      "Epoch 19/20\n",
      "1875/1875 [==============================] - 10s 5ms/step - loss: 0.0091 - accuracy: 0.9973 - val_loss: 0.1037 - val_accuracy: 0.9845\n",
      "Epoch 20/20\n",
      "1875/1875 [==============================] - 10s 6ms/step - loss: 0.0102 - accuracy: 0.9969 - val_loss: 0.1420 - val_accuracy: 0.9804\n"
     ]
    },
    {
     "data": {
      "text/plain": [
       "<keras.callbacks.History at 0x24bf44618e0>"
      ]
     },
     "execution_count": 21,
     "metadata": {},
     "output_type": "execute_result"
    }
   ],
   "source": [
    "x_train = x_train.reshape(len(x_train), -1)\n",
    "x_test = x_test.reshape(len(x_test), -1)\n",
    "\n",
    "x_train = x_train.astype(\"float32\")\n",
    "x_test = x_test.astype(\"float32\")\n",
    "\n",
    "x_train /= 255\n",
    "x_test /= 255\n",
    "\n",
    "y_train = tf.keras.utils.to_categorical(y_train)\n",
    "y_test = tf.keras.utils.to_categorical(y_test)\n",
    "\n",
    "from tensorflow.keras.models import Sequential\n",
    "from tensorflow.keras.layers import Dense\n",
    "\n",
    "model = Sequential()\n",
    "model.add(Dense(units = 784, activation = \"relu\"))\n",
    "model.add(Dense(units = 128, activation = \"relu\"))\n",
    "# model.add(Dense(units = 128, activation = \"relu\"))\n",
    "model.add(Dense(units = 10, activation = \"softmax\"))\n",
    "model.compile(loss = \"categorical_crossentropy\", optimizer = \"adam\", metrics = [\"accuracy\"])\n",
    "model.fit(x_train, y_train, batch_size = 32, epochs = 20, validation_data = (x_test, y_test))\n",
    "\n"
   ]
  },
  {
   "cell_type": "code",
   "execution_count": 22,
   "id": "8f6be043",
   "metadata": {},
   "outputs": [
    {
     "name": "stdout",
     "output_type": "stream",
     "text": [
      "Test accuracy: 98.0400025844574\n"
     ]
    }
   ],
   "source": [
    "score = model.evaluate(x_test, y_test, verbose=0)\n",
    "print('Test accuracy:', score[1]*100)"
   ]
  },
  {
   "cell_type": "code",
   "execution_count": null,
   "id": "a364d2e4",
   "metadata": {},
   "outputs": [],
   "source": []
  }
 ],
 "metadata": {
  "kernelspec": {
   "display_name": "Python 3 (ipykernel)",
   "language": "python",
   "name": "python3"
  },
  "language_info": {
   "codemirror_mode": {
    "name": "ipython",
    "version": 3
   },
   "file_extension": ".py",
   "mimetype": "text/x-python",
   "name": "python",
   "nbconvert_exporter": "python",
   "pygments_lexer": "ipython3",
   "version": "3.9.7"
  }
 },
 "nbformat": 4,
 "nbformat_minor": 5
}
