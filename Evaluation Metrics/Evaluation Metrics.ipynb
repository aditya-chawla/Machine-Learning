{
 "cells": [
  {
   "cell_type": "markdown",
   "id": "a6efc599",
   "metadata": {},
   "source": [
    "# R2 SCORE, MEAN SQUARE ERROR, ROOT MEAN SQUARE ERROR"
   ]
  },
  {
   "cell_type": "code",
   "execution_count": 2,
   "id": "b92b6fa8",
   "metadata": {},
   "outputs": [
    {
     "data": {
      "text/html": [
       "<div>\n",
       "<style scoped>\n",
       "    .dataframe tbody tr th:only-of-type {\n",
       "        vertical-align: middle;\n",
       "    }\n",
       "\n",
       "    .dataframe tbody tr th {\n",
       "        vertical-align: top;\n",
       "    }\n",
       "\n",
       "    .dataframe thead th {\n",
       "        text-align: right;\n",
       "    }\n",
       "</style>\n",
       "<table border=\"1\" class=\"dataframe\">\n",
       "  <thead>\n",
       "    <tr style=\"text-align: right;\">\n",
       "      <th></th>\n",
       "      <th>anchor_ratio</th>\n",
       "      <th>trans_range</th>\n",
       "      <th>node_density</th>\n",
       "      <th>iterations</th>\n",
       "      <th>ale</th>\n",
       "      <th>sd_ale</th>\n",
       "    </tr>\n",
       "  </thead>\n",
       "  <tbody>\n",
       "    <tr>\n",
       "      <th>0</th>\n",
       "      <td>30</td>\n",
       "      <td>15</td>\n",
       "      <td>200</td>\n",
       "      <td>40</td>\n",
       "      <td>0.773546</td>\n",
       "      <td>0.250555</td>\n",
       "    </tr>\n",
       "    <tr>\n",
       "      <th>1</th>\n",
       "      <td>15</td>\n",
       "      <td>15</td>\n",
       "      <td>100</td>\n",
       "      <td>70</td>\n",
       "      <td>0.911941</td>\n",
       "      <td>0.498329</td>\n",
       "    </tr>\n",
       "    <tr>\n",
       "      <th>2</th>\n",
       "      <td>30</td>\n",
       "      <td>15</td>\n",
       "      <td>100</td>\n",
       "      <td>50</td>\n",
       "      <td>0.814867</td>\n",
       "      <td>0.255546</td>\n",
       "    </tr>\n",
       "    <tr>\n",
       "      <th>3</th>\n",
       "      <td>15</td>\n",
       "      <td>20</td>\n",
       "      <td>100</td>\n",
       "      <td>20</td>\n",
       "      <td>1.435332</td>\n",
       "      <td>0.394603</td>\n",
       "    </tr>\n",
       "    <tr>\n",
       "      <th>4</th>\n",
       "      <td>30</td>\n",
       "      <td>15</td>\n",
       "      <td>100</td>\n",
       "      <td>40</td>\n",
       "      <td>1.265909</td>\n",
       "      <td>0.302943</td>\n",
       "    </tr>\n",
       "    <tr>\n",
       "      <th>...</th>\n",
       "      <td>...</td>\n",
       "      <td>...</td>\n",
       "      <td>...</td>\n",
       "      <td>...</td>\n",
       "      <td>...</td>\n",
       "      <td>...</td>\n",
       "    </tr>\n",
       "    <tr>\n",
       "      <th>102</th>\n",
       "      <td>18</td>\n",
       "      <td>23</td>\n",
       "      <td>100</td>\n",
       "      <td>20</td>\n",
       "      <td>1.287472</td>\n",
       "      <td>0.375227</td>\n",
       "    </tr>\n",
       "    <tr>\n",
       "      <th>103</th>\n",
       "      <td>14</td>\n",
       "      <td>17</td>\n",
       "      <td>200</td>\n",
       "      <td>60</td>\n",
       "      <td>0.899102</td>\n",
       "      <td>0.231822</td>\n",
       "    </tr>\n",
       "    <tr>\n",
       "      <th>104</th>\n",
       "      <td>15</td>\n",
       "      <td>20</td>\n",
       "      <td>100</td>\n",
       "      <td>50</td>\n",
       "      <td>1.171140</td>\n",
       "      <td>0.372001</td>\n",
       "    </tr>\n",
       "    <tr>\n",
       "      <th>105</th>\n",
       "      <td>20</td>\n",
       "      <td>20</td>\n",
       "      <td>100</td>\n",
       "      <td>40</td>\n",
       "      <td>1.234493</td>\n",
       "      <td>0.599834</td>\n",
       "    </tr>\n",
       "    <tr>\n",
       "      <th>106</th>\n",
       "      <td>15</td>\n",
       "      <td>15</td>\n",
       "      <td>200</td>\n",
       "      <td>40</td>\n",
       "      <td>0.635426</td>\n",
       "      <td>0.139791</td>\n",
       "    </tr>\n",
       "  </tbody>\n",
       "</table>\n",
       "<p>107 rows × 6 columns</p>\n",
       "</div>"
      ],
      "text/plain": [
       "     anchor_ratio  trans_range  node_density  iterations       ale    sd_ale\n",
       "0              30           15           200          40  0.773546  0.250555\n",
       "1              15           15           100          70  0.911941  0.498329\n",
       "2              30           15           100          50  0.814867  0.255546\n",
       "3              15           20           100          20  1.435332  0.394603\n",
       "4              30           15           100          40  1.265909  0.302943\n",
       "..            ...          ...           ...         ...       ...       ...\n",
       "102            18           23           100          20  1.287472  0.375227\n",
       "103            14           17           200          60  0.899102  0.231822\n",
       "104            15           20           100          50  1.171140  0.372001\n",
       "105            20           20           100          40  1.234493  0.599834\n",
       "106            15           15           200          40  0.635426  0.139791\n",
       "\n",
       "[107 rows x 6 columns]"
      ]
     },
     "execution_count": 2,
     "metadata": {},
     "output_type": "execute_result"
    }
   ],
   "source": [
    "import pandas as pd\n",
    "import numpy as np\n",
    "import matplotlib.pyplot as plt\n",
    "%matplotlib inline\n",
    "data=pd.read_csv(r\"C:\\Users\\adity\\Downloads\\Data_ALE\\Data_ALE\\mcs_ds_edited_iter_shuffled.csv\")\n",
    "data\n"
   ]
  },
  {
   "cell_type": "code",
   "execution_count": 11,
   "id": "ddf3b9b1",
   "metadata": {},
   "outputs": [
    {
     "data": {
      "text/plain": [
       "Text(0.5, 1.0, 'R2 score graph')"
      ]
     },
     "execution_count": 11,
     "metadata": {},
     "output_type": "execute_result"
    },
    {
     "data": {
      "image/png": "[encoded data removed]",
      "text/plain": [
       "<Figure size 432x288 with 1 Axes>"
      ]
     },
     "metadata": {
      "needs_background": "light"
     },
     "output_type": "display_data"
    }
   ],
   "source": [
    "ale_data=np.array(data)\n",
    "samples=ale_data[:,0:4]\n",
    "target=ale_data[:,4]\n",
    "df=pd.DataFrame(samples)\n",
    "df['target']=target\n",
    "from sklearn.model_selection import train_test_split\n",
    "from sklearn.linear_model import LinearRegression\n",
    "from sklearn.metrics import r2_score\n",
    "from sklearn.metrics import mean_squared_error\n",
    "accu=[]\n",
    "axis=np.arange(0.1, 1.0, 0.1)\n",
    "for  i in np.arange(0.1, 1.0, 0.1):\n",
    "    x_train,x_test,y_train,y_test=train_test_split(samples,df['target'],test_size=i,random_state=0)\n",
    "    lr=LinearRegression()\n",
    "    lr.fit(x_train,y_train)\n",
    "    y_pred=lr.predict(x_test)\n",
    "    accuracy=r2_score(y_test,y_pred)\n",
    "    accu.append(accuracy)\n",
    "plt.plot(axis,accu)\n",
    "plt.xlabel(\"test size\")\n",
    "plt.ylabel(\"accuracy\")\n",
    "plt.title(\"R2 score graph\")"
   ]
  },
  {
   "cell_type": "code",
   "execution_count": 14,
   "id": "e12008eb",
   "metadata": {},
   "outputs": [
    {
     "data": {
      "text/plain": [
       "Text(0.5, 1.0, 'mean_squared_error graph')"
      ]
     },
     "execution_count": 14,
     "metadata": {},
     "output_type": "execute_result"
    },
    {
     "data": {
      "image/png": "[encoded data removed]",
      "text/plain": [
       "<Figure size 432x288 with 1 Axes>"
      ]
     },
     "metadata": {
      "needs_background": "light"
     },
     "output_type": "display_data"
    }
   ],
   "source": [
    "accu1=[]\n",
    "axis=np.arange(0.1, 1.0, 0.1)\n",
    "for  i in np.arange(0.1, 1.0, 0.1):\n",
    "    x_train,x_test,y_train,y_test=train_test_split(samples,df['target'],test_size=i,random_state=0)\n",
    "    lr=LinearRegression()\n",
    "    lr.fit(x_train,y_train)\n",
    "    y_pred=lr.predict(x_test)\n",
    "    accuracy=mean_squared_error(y_test,y_pred)\n",
    "    accu1.append(accuracy)\n",
    "plt.plot(axis,accu1)\n",
    "plt.xlabel(\"test size\")\n",
    "plt.ylabel(\"accuracy\")\n",
    "plt.title(\"mean_squared_error graph\")"
   ]
  },
  {
   "cell_type": "code",
   "execution_count": 15,
   "id": "48c840f1",
   "metadata": {},
   "outputs": [
    {
     "data": {
      "text/plain": [
       "Text(0.5, 1.0, 'root_mean_squared_error graph')"
      ]
     },
     "execution_count": 15,
     "metadata": {},
     "output_type": "execute_result"
    },
    {
     "data": {
      "image/png": "[encoded data removed]",
      "text/plain": [
       "<Figure size 432x288 with 1 Axes>"
      ]
     },
     "metadata": {
      "needs_background": "light"
     },
     "output_type": "display_data"
    }
   ],
   "source": [
    "accu2=[]\n",
    "axis=np.arange(0.1, 1.0, 0.1)\n",
    "for  i in np.arange(0.1, 1.0, 0.1):\n",
    "    x_train,x_test,y_train,y_test=train_test_split(samples,df['target'],test_size=i,random_state=0)\n",
    "    lr=LinearRegression()\n",
    "    lr.fit(x_train,y_train)\n",
    "    y_pred=lr.predict(x_test)\n",
    "    accuracy=mean_squared_error(y_test,y_pred,squared=False)\n",
    "    accu2.append(accuracy)\n",
    "plt.plot(axis,accu2)\n",
    "plt.xlabel(\"test size\")\n",
    "plt.ylabel(\"accuracy\")\n",
    "plt.title(\"root_mean_squared_error graph\")"
   ]
  },
  {
   "cell_type": "code",
   "execution_count": null,
   "id": "adc1fff9",
   "metadata": {},
   "outputs": [],
   "source": []
  }
 ],
 "metadata": {
  "kernelspec": {
   "display_name": "Python 3 (ipykernel)",
   "language": "python",
   "name": "python3"
  },
  "language_info": {
   "codemirror_mode": {
    "name": "ipython",
    "version": 3
   },
   "file_extension": ".py",
   "mimetype": "text/x-python",
   "name": "python",
   "nbconvert_exporter": "python",
   "pygments_lexer": "ipython3",
   "version": "3.9.7"
  }
 },
 "nbformat": 4,
 "nbformat_minor": 5
}
